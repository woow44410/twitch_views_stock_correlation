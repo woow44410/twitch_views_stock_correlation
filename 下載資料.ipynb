{
 "cells": [
  {
   "cell_type": "code",
   "execution_count": 1,
   "metadata": {},
   "outputs": [],
   "source": [
    "import json\n",
    "import time\n",
    "from io import StringIO\n",
    "import requests\n",
    "import pandas as pd\n",
    "import pickle\n",
    "import re\n",
    "import random"
   ]
  },
  {
   "cell_type": "code",
   "execution_count": 3,
   "metadata": {},
   "outputs": [],
   "source": [
    "def getGameID(gameName):\n",
    "    #得到遊戲代號ID\n",
    "    header = {'Postman-Token':'<calculated when request is sent>','Host':'sullygnome.com','User-Agent':'PostmanRuntime/7.25.0','Accept':'*/*','Accept-Encoding':'gzip, deflate, br','Connection':'keep-alive'}\n",
    "    text = requests.get('https://sullygnome.com/game/{:s}/3'.format(gameName),headers = header)\n",
    "    text = text.text\n",
    "    menu = re.search(r\"\\\"id\\\":[0-9]*\", text)\n",
    "    tmp = menu.group()\n",
    "    tmp = re.search(r\":[0-9]*\", tmp).group()[1:];\n",
    "    return tmp\n",
    "\n",
    "def getGameName(CompanyName,i):\n",
    "    #得到原始的遊戲名稱\n",
    "    with open('GameList.json','r') as fp:\n",
    "        tmp = json.loads(fp.read())\n",
    "    tmp = tmp[CompanyName][\"game\"][i].replace(\":\",\"\")\n",
    "    tmp = tmp.replace(\"'\",\"\")\n",
    "    tmp = tmp.replace(\"&\",\"and\")\n",
    "    return tmp\n",
    "\n",
    "def getGameNameFile(CompanyName,i):\n",
    "    #得到有底線的遊戲名稱(檔案名稱)\n",
    "    with open('GameList.json','r') as fp:\n",
    "        tmp = json.loads(fp.read())\n",
    "    tmp = tmp[CompanyName][\"game\"][i].replace(\"&\",\"and\")\n",
    "    tmp = tmp.replace(\":\",\"\")\n",
    "    tmp = tmp.replace(\"'\",\"\")\n",
    "    tmp = tmp.replace(\" \",\"_\")\n",
    "    return tmp\n",
    "\n",
    "def getGameNameUrl(CompanyName,i):\n",
    "    #得到有%20的遊戲名稱(URL)\n",
    "    with open('GameList.json','r') as fp:\n",
    "        tmp = json.loads(fp.read())\n",
    "    tmp = tmp[CompanyName][\"game\"][i].replace(\"&\",\"%26amp%3B\")\n",
    "    tmp = tmp.replace(\" \",\"%20\")\n",
    "    tmp = tmp.replace(\":\",\"%3A\")\n",
    "    return tmp\n",
    "\n",
    "def getLength(CompanyName):\n",
    "    #得到公司的遊戲數量\n",
    "    with open('GameList.json','r') as fp:\n",
    "        tmp = json.loads(fp.read())  \n",
    "    length =len(tmp[CompanyName][\"game\"])\n",
    "    return length\n",
    "\n",
    "# EA , NEXON , ubisoft"
   ]
  },
  {
   "cell_type": "code",
   "execution_count": 44,
   "metadata": {},
   "outputs": [],
   "source": [
    "def GetSingleData(CompanyName,i):\n",
    "    FileName = getGameNameFile(CompanyName,i)+\".json\"\n",
    "    GameID = getGameID(getGameNameFile(CompanyName,i))\n",
    "    GameNameUrl = getGameNameUrl(CompanyName,i)\n",
    "    FileName = getGameNameFile(CompanyName,i)+\".json\"\n",
    "\n",
    "    header = {'Postman-Token':'<calculated when request is sent>','Host':'sullygnome.com','User-Agent':'PostmanRuntime/7.25.0','Accept':'*/*','Accept-Encoding':'gzip, deflate, br','Connection':'keep-alive'}\n",
    "    url = 'https://sullygnome.com/api/charts/linecharts/getconfig/GameViewers/1095/-169/{}/{}/%20/%20/0/0/%20/'.format(GameID,GameNameUrl)\n",
    "    response = requests.get(url,headers = header).json()\n",
    "    ret = json.dumps(response)\n",
    "\n",
    "    responseDate = response[\"data\"][\"labels\"]\n",
    "    responseViewer = response[\"data\"][\"datasets\"][0][\"data\"]\n",
    "    ret = json.dumps({'Date' : responseDate,'Viewer':responseViewer})\n",
    "#     ret2 = json.dumps(responseViewer)\n",
    "\n",
    "    with open(FileName,'w') as fp:\n",
    "        fp.write(ret)\n",
    "#         fp.write(ret2)\n",
    "\n",
    "    with open(FileName,'r') as fp:\n",
    "        tmp = fp.read()\n",
    "        fxxk =tmp.replace(\" 00:00\",\"\")\n",
    "\n",
    "    with open(FileName,'w') as fp:\n",
    "        fp.write(fxxk)\n",
    "\n",
    "    time.sleep(5)\n",
    "    with open(\"log.txt\",'a+') as fp:\n",
    "        fp.write(\"success produce\"+ \" \" + FileName + \"\\n\" )\n",
    "    \n",
    "    "
   ]
  },
  {
   "cell_type": "code",
   "execution_count": 36,
   "metadata": {},
   "outputs": [],
   "source": [
    "def getAllData(CompanyName):\n",
    "    for i in range(getLength(CompanyName)):\n",
    "        try:\n",
    "            GetSingleData(CompanyName,i)\n",
    "        except Exception as e:\n",
    "            with open(\"log.txt\",'a+') as fp:\n",
    "                fp.write(\"faild produce\"+ \" \" + getGameNameFile(CompanyName,i)+\".json\" + \" : \"+  str(e) +  \"\\n\" )"
   ]
  },
  {
   "cell_type": "code",
   "execution_count": 47,
   "metadata": {},
   "outputs": [],
   "source": [
    "Name = ['EA']\n",
    "for i in Name:\n",
    "    getAllData(i)\n",
    "    time.sleep(10)"
   ]
  },
  {
   "cell_type": "code",
   "execution_count": 46,
   "metadata": {
    "scrolled": true
   },
   "outputs": [],
   "source": [
    "GetSingleData(\"EA\",1)"
   ]
  },
  {
   "cell_type": "code",
   "execution_count": 45,
   "metadata": {},
   "outputs": [
    {
     "data": {
      "text/plain": [
       "'Apex_Legends'"
      ]
     },
     "execution_count": 45,
     "metadata": {},
     "output_type": "execute_result"
    }
   ],
   "source": [
    "# getGameName(\"EA\",6)\n",
    "getGameNameFile(\"EA\",1)\n"
   ]
  },
  {
   "cell_type": "code",
   "execution_count": 23,
   "metadata": {
    "scrolled": true
   },
   "outputs": [
    {
     "data": {
      "text/plain": [
       "51"
      ]
     },
     "execution_count": 23,
     "metadata": {},
     "output_type": "execute_result"
    }
   ],
   "source": [
    "getLength('EA')"
   ]
  },
  {
   "cell_type": "code",
   "execution_count": 39,
   "metadata": {
    "scrolled": true
   },
   "outputs": [
    {
     "data": {
      "text/plain": [
       "'Untitled BioWare Edmonton Game'"
      ]
     },
     "execution_count": 39,
     "metadata": {},
     "output_type": "execute_result"
    }
   ],
   "source": [
    "getGameName(\"EA\",10)"
   ]
  },
  {
   "cell_type": "code",
   "execution_count": null,
   "metadata": {},
   "outputs": [],
   "source": []
  }
 ],
 "metadata": {
  "kernelspec": {
   "display_name": "Python 3",
   "language": "python",
   "name": "python3"
  },
  "language_info": {
   "codemirror_mode": {
    "name": "ipython",
    "version": 3
   },
   "file_extension": ".py",
   "mimetype": "text/x-python",
   "name": "python",
   "nbconvert_exporter": "python",
   "pygments_lexer": "ipython3",
   "version": "3.7.6"
  }
 },
 "nbformat": 4,
 "nbformat_minor": 4
}
